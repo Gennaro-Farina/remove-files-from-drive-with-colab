{
  "nbformat": 4,
  "nbformat_minor": 0,
  "metadata": {
    "colab": {
      "name": "RemovingLargeAmontOfFileOnDriveByUsingColab",
      "provenance": [],
      "collapsed_sections": [],
      "authorship_tag": "ABX9TyPZZagH1o6dZyxLoXmBfZ/9",
      "include_colab_link": true
    },
    "kernelspec": {
      "name": "python3",
      "display_name": "Python 3"
    },
    "language_info": {
      "name": "python"
    }
  },
  "cells": [
    {
      "cell_type": "markdown",
      "metadata": {
        "id": "view-in-github",
        "colab_type": "text"
      },
      "source": [
        "<a href=\"https://colab.research.google.com/github/Gennaro-Farina/remove-files-from-drive-with-colab/blob/main/RemovingLargeAmontOfFileOnDriveByUsingColab.ipynb\" target=\"_parent\"><img src=\"https://colab.research.google.com/assets/colab-badge.svg\" alt=\"Open In Colab\"/></a>"
      ]
    },
    {
      "cell_type": "code",
      "metadata": {
        "colab": {
          "base_uri": "https://localhost:8080/",
          "height": 91
        },
        "id": "rugHPAkGqg89",
        "outputId": "dbeb49c0-f75f-46ca-8c06-eef7961f86ae"
      },
      "source": [
        "\"THE SOFTWARE IS PROVIDED “AS IS”, WITHOUT WARRANTY OF ANY KIND, EXPRESS OR IMPLIED, INCLUDING BUT NOT LIMITED TO THE WARRANTIES OF MERCHANTABILITY, FITNESS FOR A PARTICULAR PURPOSE AND NONINFRINGEMENT. IN NO EVENT SHALL THE AUTHORS OR COPYRIGHT HOLDERS BE LIABLE FOR ANY CLAIM, DAMAGES OR OTHER LIABILITY, WHETHER IN AN ACTION OF CONTRACT, TORT OR OTHERWISE, ARISING FROM, OUT OF OR IN CONNECTION WITH THE SOFTWARE OR THE USE OR OTHER DEALINGS IN THE SOFTWARE.\""
      ],
      "execution_count": 4,
      "outputs": [
        {
          "output_type": "execute_result",
          "data": {
            "application/vnd.google.colaboratory.intrinsic+json": {
              "type": "string"
            },
            "text/plain": [
              "'THE SOFTWARE IS PROVIDED “AS IS”, WITHOUT WARRANTY OF ANY KIND, EXPRESS OR IMPLIED, INCLUDING BUT NOT LIMITED TO THE WARRANTIES OF MERCHANTABILITY, FITNESS FOR A PARTICULAR PURPOSE AND NONINFRINGEMENT. IN NO EVENT SHALL THE AUTHORS OR COPYRIGHT HOLDERS BE LIABLE FOR ANY CLAIM, DAMAGES OR OTHER LIABILITY, WHETHER IN AN ACTION OF CONTRACT, TORT OR OTHERWISE, ARISING FROM, OUT OF OR IN CONNECTION WITH THE SOFTWARE OR THE USE OR OTHER DEALINGS IN THE SOFTWARE.'"
            ]
          },
          "metadata": {},
          "execution_count": 4
        }
      ]
    },
    {
      "cell_type": "markdown",
      "metadata": {
        "id": "b57xe-h_lWut"
      },
      "source": [
        "## <h1><b> Description</b></h1>\n",
        "---\n",
        "This Colab notebook allows you to easily remove all files uploaded on a certain day.\n",
        "\n",
        "\n",
        "| WARNING: be careful with the following operation. They will remove files from your Drive.|\n",
        "| --- |\n",
        "\n",
        "##### <h4> <b>  Background: </b></h4>\n",
        "---\n",
        "\n",
        "I made this Colab notebook because some time ago, I was uploading a folder containing several thousand images to Google Drive. Accidentally, the upload resulted in a lot of images in the main folder.  This makes the drive a disorganized warehouse of junk\n",
        "\n",
        "#### <h4><b>The problem</b></h4>\n",
        "---\n",
        "\n",
        "Even sorting the files by date Google doesn't seem to provide a quick way to remove them all in one click. This has led me to pay for a subscription to One Drive that I don't really need, just to keep the mail running\n",
        "\n",
        "#### <h4><b> The solution </b></h4>\n",
        "---\n",
        "This workaround worked for me, it easily deletes all files uploaded on a given day. \n"
      ]
    },
    {
      "cell_type": "code",
      "metadata": {
        "colab": {
          "base_uri": "https://localhost:8080/"
        },
        "id": "hD6d7mY8lUun",
        "outputId": "3b0a48e9-d865-49bc-a232-5ce4865827d3"
      },
      "source": [
        "# Load the Drive helper and mount\n",
        "#  click on the link below, It's managed by Google and let this notebook access to your drive space.\n",
        "#  Once authorized by Google, cut and paste the URL in the text box here. Just below the \"Enter your authorization code:\"\n",
        "#  Once you paste the code, procede by press the \"Enter\" key, on your keyboard.\n",
        "# It may take a while to load your workspace, depending on your connection and on the quantity of data in your drive.\n",
        "from google.colab import drive\n",
        "drive.mount('/content/drive')"
      ],
      "execution_count": 2,
      "outputs": [
        {
          "output_type": "stream",
          "name": "stdout",
          "text": [
            "Drive already mounted at /content/drive; to attempt to forcibly remount, call drive.mount(\"/content/drive\", force_remount=True).\n"
          ]
        }
      ]
    },
    {
      "cell_type": "markdown",
      "metadata": {
        "id": "Tnv9zziVpKwi"
      },
      "source": [
        "At this point you can browse your files on the left pane.\n",
        "\n",
        "Please enter the path where your files are located in the `PATH_STR` variable:\n",
        "\n",
        "\n",
        "\n",
        "\n",
        "\n"
      ]
    },
    {
      "cell_type": "code",
      "metadata": {
        "id": "39ZAfrl8pIKp"
      },
      "source": [
        "PATH_STR = '/content/drive/MyDrive'\n",
        "# Date format is: YYYY/MM/DD\n",
        "REMOVE_FILE_DATE = \"2021/03/02\"\n",
        "\n",
        "import os\n",
        "import time\n",
        "\n",
        "from datetime import datetime\n",
        "\n",
        "# These are the files in the folder: uncomment lines get the list.\n",
        "# for file in os.listdir(PATH_STR):\n",
        "#   (mode, ino, dev, nlink, uid, gid, size, atime, mtime, ctime) = os.stat(os.path.join(PATH_STR,file))\n",
        "#   print(\"{} last modified: {}\".format(file, time.ctime(mtime))) \n",
        "\n",
        "d_dt = datetime.strptime(REMOVE_FILE_DATE, \"%Y/%m/%d\")\n",
        "print(date_to_dt)\n",
        "\n",
        "files_to_remove = []\n",
        "\n",
        "print('These files will be unchanged')\n",
        "for file in os.listdir(PATH_STR):\n",
        "  (mode, ino, dev, nlink, uid, gid, size, atime, mtime, ctime) = os.stat(os.path.join(PATH_STR,file))\n",
        "  file_dt = datetime.strptime(time.ctime(mtime), \"%a %b %d %H:%M:%S %Y\")\n",
        "  if file_dt.day == d_dt.day:\n",
        "    files_to_remove.append(file)#(\"{} last modified: {}\".format(file, time.ctime(mtime)))\n",
        "  else:\n",
        "    print(\"{: <35} last modified: {}\".format(file, time.ctime(mtime))) \n",
        "\n",
        "input('OK: press enter')\n"
      ],
      "execution_count": null,
      "outputs": []
    },
    {
      "cell_type": "code",
      "metadata": {
        "colab": {
          "base_uri": "https://localhost:8080/"
        },
        "id": "v0On6aLvyO7x",
        "outputId": "d07b8e62-9fd3-490e-8ed4-d5ed95e95c1b"
      },
      "source": [
        "print('These file will be removed')\n",
        "print(files_to_remove)\n",
        "input_ =  input('Do you want to procede?input an option and press enter {Y|n}')\n",
        "if input_ == 'Y':\n",
        "  print('removing files...')\n",
        "\n",
        "  for file in files_to_remove:\n",
        "    os.remove(os.path.join(PATH_STR,file))"
      ],
      "execution_count": 41,
      "outputs": [
        {
          "name": "stdout",
          "output_type": "stream",
          "text": [
            "These file will be removed\n",
            "[]\n",
            "Do you want to procede?input an option and press enter {Y|n}n\n"
          ]
        }
      ]
    }
  ]
}